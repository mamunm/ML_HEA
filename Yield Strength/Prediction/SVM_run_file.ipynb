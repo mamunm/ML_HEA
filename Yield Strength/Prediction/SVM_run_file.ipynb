{
 "cells": [
  {
   "cell_type": "code",
   "execution_count": null,
   "id": "5553832e",
   "metadata": {},
   "outputs": [],
   "source": [
    "from Yield_Strength import Yield_Strength\n",
    "import pandas as pd \n",
    "import sys\n",
    "\n",
    "sys.stdout = open('output_SVR_refractory.txt','w')\n",
    "\n",
    "data = pd.read_csv(\"train_YS.csv\")\n",
    "\n",
    "youngs = Yield_Strength(data)\n",
    "youngs.preprocessing()\n",
    "\n",
    "grid_values ={'kernel': {\n",
    "                         'rbf': {'gamma': [0, 50], 'C': [1, 100], 'epsilon':[0.1,0.2,0.5,0.3]},\n",
    "                         \n",
    "                        }\n",
    "             }\n",
    "best_params, best_scores = youngs.optimizer_SVR(grid_values)\n",
    "\n",
    "youngs.feature_importance()\n",
    "\n",
    "validation = pd.read_csv(\"test_YS.csv\")\n",
    "results = youngs.test(validation)\n",
    "print(results)\n",
    "\n",
    "sys.stdout.close()"
   ]
  },
  {
   "cell_type": "code",
   "execution_count": null,
   "id": "e5069286",
   "metadata": {},
   "outputs": [],
   "source": []
  }
 ],
 "metadata": {
  "kernelspec": {
   "display_name": "Python 3 (ipykernel)",
   "language": "python",
   "name": "python3"
  },
  "language_info": {
   "codemirror_mode": {
    "name": "ipython",
    "version": 3
   },
   "file_extension": ".py",
   "mimetype": "text/x-python",
   "name": "python",
   "nbconvert_exporter": "python",
   "pygments_lexer": "ipython3",
   "version": "3.9.7"
  }
 },
 "nbformat": 4,
 "nbformat_minor": 5
}
