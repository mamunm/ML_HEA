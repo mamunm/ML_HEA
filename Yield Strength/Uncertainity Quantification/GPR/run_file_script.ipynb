{
 "cells": [
  {
   "cell_type": "code",
   "execution_count": null,
   "metadata": {},
   "outputs": [],
   "source": [
    "import pandas as pd \n",
    "import numpy as np \n",
    "from pathlib import Path\n",
    "from sklearn.metrics import mean_squared_error, r2_score\n",
    "from scipy.stats import pearsonr\n",
    "from sklearn.preprocessing import StandardScaler\n",
    "from sklearn.model_selection import KFold\n",
    "from sklearn.model_selection import train_test_split\n",
    "from sklearn.gaussian_process import GaussianProcessRegressor\n",
    "from sklearn.gaussian_process.kernels import (RBF, ConstantKernel as C,\n",
    "                                              Matern, WhiteKernel, DotProduct)\n",
    "import seaborn as sns\n",
    "import matplotlib.pyplot as plt\n"
   ]
  },
  {
   "cell_type": "code",
   "execution_count": null,
   "metadata": {},
   "outputs": [],
   "source": [
    "data = pd.read_csv('Alloy_Features_all_data.csv')\n",
    "data = data.iloc[:,1:17]\n",
    "\n",
    "\n",
    "# Features and labels\n",
    "X = data.iloc[:,1:15].values\n",
    "y = data.iloc[:,15].values\n",
    "\n",
    "data = {'X': X, 'y': y}"
   ]
  },
  {
   "cell_type": "code",
   "execution_count": null,
   "metadata": {},
   "outputs": [],
   "source": [
    "df_train = {}\n",
    "df_test = {}\n",
    "\n",
    "kf = KFold(n_splits=5, shuffle=True, random_state=42)\n",
    "kernel = C(1.0) * Matern(length_scale=1.0) + WhiteKernel(noise_level=1.0) + C(1.0) * DotProduct(sigma_0=1.0)\n",
    "for i, (tr, ts) in enumerate(kf.split(data['y'])):\n",
    "    X_train, X_test = data['X'][tr], data['X'][ts]\n",
    "    scale = StandardScaler()\n",
    "    X_train = scale.fit_transform(X_train)\n",
    "    X_test = scale.transform(X_test)\n",
    "    y_train, y_test = data['y'][tr], data['y'][ts]\n",
    "    df_train['y_train (k={})'.format(i)] = y_train\n",
    "    df_test['y_test (k={})'.format(i)] = y_test\n",
    "    model = GaussianProcessRegressor(kernel=kernel, n_restarts_optimizer=8, normalize_y=True)\n",
    "    model.fit(X_train, np.log(y_train))\n",
    "    mu_z, std_z = model.predict(X_train, return_std=True)\n",
    "    y_pred_train = np.exp(mu_z + std_z**2/2)\n",
    "    y_pred_unc_train = np.sqrt(std_z**2*y_pred_train**2)\n",
    "    mu_z, std_z = model.predict(X_test, return_std=True)\n",
    "    y_pred_test = np.exp(mu_z + std_z**2/2)\n",
    "    y_pred_unc_test = np.sqrt(std_z**2*y_pred_test**2)\n",
    "    print(f'pearsonr: {pearsonr(y_test, y_pred_test)[0]}')\n",
    "    \n",
    "    K = model.kernel_(model.X_train_)\n",
    "    K[np.diag_indices_from(K)] += model.alpha\n",
    "    sns.heatmap(K, cmap='mako')\n",
    "    plt.title('Components of Kernel Matrix')\n",
    "    plt.savefig('heatmap_{}.png'.format(i))\n",
    "    plt.clf()\n",
    "\n",
    "    df_train['y_train_pred (q=0.025) (k={})'.format(i)] = y_pred_train - 2 * y_pred_unc_train\n",
    "    df_test['y_test_pred (q=0.025) (k={})'.format(i)] = y_pred_test - 2 * y_pred_unc_test\n",
    "    df_train['y_train_pred (q=0.500) (k={})'.format(i)] = y_pred_train\n",
    "    df_test['y_test_pred (q=0.500) (k={})'.format(i)] = y_pred_test\n",
    "    df_train['y_train_pred (q=0.975) (k={})'.format(i)] = y_pred_train + 2 * y_pred_unc_train\n",
    "    df_test['y_test_pred (q=0.975) (k={})'.format(i)] = y_pred_test + 2 * y_pred_unc_test\n",
    "     \n",
    "np.save('qr_predictions_train.npy', df_train)\n",
    "np.save('qr_predictions_test.npy', df_test)"
   ]
  },
  {
   "cell_type": "code",
   "execution_count": null,
   "metadata": {},
   "outputs": [],
   "source": []
  }
 ],
 "metadata": {
  "kernelspec": {
   "display_name": "Python 3 (ipykernel)",
   "language": "python",
   "name": "python3"
  },
  "language_info": {
   "codemirror_mode": {
    "name": "ipython",
    "version": 3
   },
   "file_extension": ".py",
   "mimetype": "text/x-python",
   "name": "python",
   "nbconvert_exporter": "python",
   "pygments_lexer": "ipython3",
   "version": "3.9.7"
  }
 },
 "nbformat": 4,
 "nbformat_minor": 4
}
