{
 "cells": [
  {
   "cell_type": "code",
   "execution_count": null,
   "metadata": {},
   "outputs": [],
   "source": [
    "import pandas as pd\n",
    "import matplotlib.pyplot as plt\n",
    "from sklearn.metrics import mean_squared_error, r2_score\n",
    "from scipy.stats import pearsonr\n",
    "import seaborn as sns\n",
    "from pathlib import Path\n",
    "import numpy as np \n",
    "import matplotlib\n"
   ]
  },
  {
   "cell_type": "code",
   "execution_count": null,
   "metadata": {},
   "outputs": [],
   "source": [
    "plt.style.use('seaborn-white')\n",
    "# sns.set()\n",
    "font = {'family' : 'sans-serif',\n",
    "        'size'   : 16}\n",
    "matplotlib.rc('font', **font)\n",
    "sns.set_palette('mako')\n",
    "# colors = plt.rcParams['axes.prop_cycle'].by_key()['color']\n"
   ]
  },
  {
   "cell_type": "code",
   "execution_count": null,
   "metadata": {},
   "outputs": [],
   "source": [
    "def coverage(y, yL, yH):\n",
    "    return (100 / y.shape[0] * ((y>yL)&(y<yH)).sum())\n",
    "\n",
    "\n",
    "df_train = np.load(\"qr_predictions_train.npy\", allow_pickle=True)[()]\n",
    "df_test = np.load(\"qr_predictions_test.npy\", allow_pickle=True)[()]\n",
    "\n",
    "for i in range(5):\n",
    "    for set in ['train', 'test']:\n",
    "        y_true = (df_train['y_train (k={})'.format(i)] \n",
    "                  if set == 'train' \n",
    "                  else df_test['y_test (k={})'.format(i)])\n",
    "        y_median = (df_train['y_train_pred (q=0.500) (k={})'.format(i)] \n",
    "                  if set == 'train' else \n",
    "                  df_test['y_test_pred (q=0.500) (k={})'.format(i)])\n",
    "        y_low = (df_train['y_train_pred (q=0.025) (k={})'.format(i)] \n",
    "                  if set == 'train' else \n",
    "                  df_test['y_test_pred (q=0.025) (k={})'.format(i)])\n",
    "        y_high = (df_train['y_train_pred (q=0.975) (k={})'.format(i)] \n",
    "                  if set == 'train' else \n",
    "                  df_test['y_test_pred (q=0.975) (k={})'.format(i)])\n",
    "        plt.figure(figsize=(14, 6))\n",
    "        plt.plot(np.arange(1, len(y_true)+1), sorted(y_median), \n",
    "                 label='predicted mean', color='k')\n",
    "        plt.scatter(np.arange(1, len(y_true)+1), y_true[np.argsort(y_median)], \n",
    "                    marker='o', color='darkblue', \n",
    "                    label='actual validation data')\n",
    "        plt.fill_between(np.arange(1, len(y_true)+1), \n",
    "                         y_low[np.argsort(y_median)], \n",
    "                         y_high[np.argsort(y_median)], alpha=0.3, \n",
    "                         color='red',\n",
    "                         label='95% confidence interval')\n",
    "        plt.grid(True, which='major', linestyle='-', \n",
    "                 linewidth='0.25')#, color='gray')\n",
    "        plt.ylabel('Yield Strength (MPa)')\n",
    "        plt.xlabel('Data index in ascending order')\n",
    "        plt.ticklabel_format(style='sci', scilimits=(-3,4), axis='y')\n",
    "        plt.legend()\n",
    "        plt.savefig(\"{}_parity_{}.png\".format(\n",
    "            set, i), bbox_inches='tight')\n",
    "        plt.show()\n",
    "        print(f\"Coverage ({set}, {i}): {coverage(y_true, y_low, y_high)}\")\n",
    "        print(f\"Upper coverage ({set}, {i}): {coverage(y_true, y_low, np.inf)}\")\n",
    "        print(f\"Lower coverage ({set}, {i}): {coverage(y_true, -np.inf, y_high)}\")\n",
    "        print(f\"Pearson R2 ({set}, {i}): {pearsonr(y_true, y_median)[0]}\")\n",
    "        print(f\"R2 ({set}, {i}): {r2_score(y_true, y_median)}\")\n",
    "        print(f\"RMSE ({set}, {i}): {np.sqrt(mean_squared_error(y_true, y_median))}\")"
   ]
  },
  {
   "cell_type": "code",
   "execution_count": null,
   "metadata": {},
   "outputs": [],
   "source": []
  }
 ],
 "metadata": {
  "kernelspec": {
   "display_name": "Python 3 (ipykernel)",
   "language": "python",
   "name": "python3"
  },
  "language_info": {
   "codemirror_mode": {
    "name": "ipython",
    "version": 3
   },
   "file_extension": ".py",
   "mimetype": "text/x-python",
   "name": "python",
   "nbconvert_exporter": "python",
   "pygments_lexer": "ipython3",
   "version": "3.9.7"
  }
 },
 "nbformat": 4,
 "nbformat_minor": 4
}
