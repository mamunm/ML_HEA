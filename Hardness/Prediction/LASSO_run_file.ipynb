{
 "cells": [
  {
   "cell_type": "code",
   "execution_count": null,
   "metadata": {},
   "outputs": [],
   "source": [
    "from Hardness import Hardness\n",
    "import pandas as pd \n",
    "import sys\n",
    "\n",
    "sys.stdout = open('output_LASSO_refractory.txt','w')\n",
    "\n",
    "data = pd.read_csv(\"train_HD.csv\")\n",
    "\n",
    "youngs = Hardness(data)\n",
    "youngs.preprocessing()\n",
    "\n",
    "grid_values = {\n",
    "     #'alpha':[0.02, 0.024, 0.025, 0.026, 0.03, 0.1, 0.2, 0.3, 0.4, 0.5, 0.6, 0.7, 0.8, 0.9, 1]\n",
    "     'n_alphas':[10, 20, 30, 40, 50, 60, 70, 80, 90, 100]\n",
    "    \n",
    "}\n",
    "\n",
    "best_params, best_scores = youngs.optimizer_LASSO(grid_values)\n",
    "\n",
    "youngs.feature_importance()\n",
    "\n",
    "validation = pd.read_csv(\"test_HD.csv\")\n",
    "results = youngs.test(validation)\n",
    "print(results)\n",
    "\n",
    "sys.stdout.close()\n"
   ]
  },
  {
   "cell_type": "code",
   "execution_count": null,
   "metadata": {},
   "outputs": [],
   "source": []
  }
 ],
 "metadata": {
  "kernelspec": {
   "display_name": "Python 3 (ipykernel)",
   "language": "python",
   "name": "python3"
  },
  "language_info": {
   "codemirror_mode": {
    "name": "ipython",
    "version": 3
   },
   "file_extension": ".py",
   "mimetype": "text/x-python",
   "name": "python",
   "nbconvert_exporter": "python",
   "pygments_lexer": "ipython3",
   "version": "3.9.7"
  }
 },
 "nbformat": 4,
 "nbformat_minor": 4
}
