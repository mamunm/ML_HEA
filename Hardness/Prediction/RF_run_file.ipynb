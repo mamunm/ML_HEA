{
 "cells": [
  {
   "cell_type": "code",
   "execution_count": null,
   "id": "af4ecd15",
   "metadata": {},
   "outputs": [],
   "source": [
    "from Hardness import Hardness\n",
    "import pandas as pd \n",
    "import sys\n",
    "\n",
    "sys.stdout = open('output_HD.txt','w')\n",
    "\n",
    "data = pd.read_csv(\"train_HD.csv\")\n",
    "\n",
    "youngs = Hardness(data)\n",
    "youngs.preprocessing()\n",
    "\n",
    "grid_values = {\n",
    "    'n_estimators': [100,200,300,400,500,600,700,800,900,1000],\n",
    "     'max_depth': [3,4,5,6,8],\n",
    "    'min_samples_leaf': [1,2,3,4,5],\n",
    "    'min_samples_split': [2,3,4,5]\n",
    "}\n",
    "\n",
    "best_params, best_scores = youngs.optimizer_RF(grid_values)\n",
    "\n",
    "youngs.feature_importance()\n",
    "\n",
    "validation = pd.read_csv(\"test_HD.csv\")\n",
    "results = youngs.test(validation)\n",
    "print(results)\n",
    "\n",
    "sys.stdout.close()\n"
   ]
  },
  {
   "cell_type": "code",
   "execution_count": null,
   "id": "aace21d4",
   "metadata": {},
   "outputs": [],
   "source": []
  }
 ],
 "metadata": {
  "kernelspec": {
   "display_name": "Python 3 (ipykernel)",
   "language": "python",
   "name": "python3"
  },
  "language_info": {
   "codemirror_mode": {
    "name": "ipython",
    "version": 3
   },
   "file_extension": ".py",
   "mimetype": "text/x-python",
   "name": "python",
   "nbconvert_exporter": "python",
   "pygments_lexer": "ipython3",
   "version": "3.9.7"
  }
 },
 "nbformat": 4,
 "nbformat_minor": 5
}
